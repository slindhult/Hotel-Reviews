{
 "cells": [
  {
   "cell_type": "code",
   "execution_count": 1,
   "metadata": {},
   "outputs": [],
   "source": [
    "import pandas as pd\n",
    "import numpy as np\n",
    "import matplotlib.pyplot as plt\n",
    "import numpy as np\n",
    "import matplotlib.pyplot as plt\n",
    "import pandas as pd\n",
    "import statsmodels.api as sm\n",
    "import scipy.stats as scs\n",
    "from sklearn.ensemble import RandomForestRegressor, GradientBoostingRegressor\n",
    "from sklearn.model_selection import train_test_split\n",
    "from sklearn.metrics import r2_score, mean_squared_error, mean_absolute_error\n",
    "from sklearn.model_selection import RandomizedSearchCV, KFold, GridSearchCV, cross_val_score"
   ]
  },
  {
   "cell_type": "code",
   "execution_count": 3,
   "metadata": {},
   "outputs": [
    {
     "ename": "FileNotFoundError",
     "evalue": "[Errno 2] File Hotel_Reviews.csv does not exist: 'Hotel_Reviews.csv'",
     "output_type": "error",
     "traceback": [
      "\u001b[0;31m---------------------------------------------------------------------------\u001b[0m",
      "\u001b[0;31mFileNotFoundError\u001b[0m                         Traceback (most recent call last)",
      "\u001b[0;32m<ipython-input-3-72b20187be0a>\u001b[0m in \u001b[0;36m<module>\u001b[0;34m\u001b[0m\n\u001b[0;32m----> 1\u001b[0;31m \u001b[0mdata\u001b[0m \u001b[0;34m=\u001b[0m \u001b[0mpd\u001b[0m\u001b[0;34m.\u001b[0m\u001b[0mread_csv\u001b[0m\u001b[0;34m(\u001b[0m\u001b[0;34m'Hotel_Reviews.csv'\u001b[0m\u001b[0;34m)\u001b[0m\u001b[0;34m\u001b[0m\u001b[0;34m\u001b[0m\u001b[0m\n\u001b[0m",
      "\u001b[0;32m~/anaconda3/lib/python3.7/site-packages/pandas/io/parsers.py\u001b[0m in \u001b[0;36mparser_f\u001b[0;34m(filepath_or_buffer, sep, delimiter, header, names, index_col, usecols, squeeze, prefix, mangle_dupe_cols, dtype, engine, converters, true_values, false_values, skipinitialspace, skiprows, skipfooter, nrows, na_values, keep_default_na, na_filter, verbose, skip_blank_lines, parse_dates, infer_datetime_format, keep_date_col, date_parser, dayfirst, cache_dates, iterator, chunksize, compression, thousands, decimal, lineterminator, quotechar, quoting, doublequote, escapechar, comment, encoding, dialect, error_bad_lines, warn_bad_lines, delim_whitespace, low_memory, memory_map, float_precision)\u001b[0m\n\u001b[1;32m    674\u001b[0m         )\n\u001b[1;32m    675\u001b[0m \u001b[0;34m\u001b[0m\u001b[0m\n\u001b[0;32m--> 676\u001b[0;31m         \u001b[0;32mreturn\u001b[0m \u001b[0m_read\u001b[0m\u001b[0;34m(\u001b[0m\u001b[0mfilepath_or_buffer\u001b[0m\u001b[0;34m,\u001b[0m \u001b[0mkwds\u001b[0m\u001b[0;34m)\u001b[0m\u001b[0;34m\u001b[0m\u001b[0;34m\u001b[0m\u001b[0m\n\u001b[0m\u001b[1;32m    677\u001b[0m \u001b[0;34m\u001b[0m\u001b[0m\n\u001b[1;32m    678\u001b[0m     \u001b[0mparser_f\u001b[0m\u001b[0;34m.\u001b[0m\u001b[0m__name__\u001b[0m \u001b[0;34m=\u001b[0m \u001b[0mname\u001b[0m\u001b[0;34m\u001b[0m\u001b[0;34m\u001b[0m\u001b[0m\n",
      "\u001b[0;32m~/anaconda3/lib/python3.7/site-packages/pandas/io/parsers.py\u001b[0m in \u001b[0;36m_read\u001b[0;34m(filepath_or_buffer, kwds)\u001b[0m\n\u001b[1;32m    446\u001b[0m \u001b[0;34m\u001b[0m\u001b[0m\n\u001b[1;32m    447\u001b[0m     \u001b[0;31m# Create the parser.\u001b[0m\u001b[0;34m\u001b[0m\u001b[0;34m\u001b[0m\u001b[0;34m\u001b[0m\u001b[0m\n\u001b[0;32m--> 448\u001b[0;31m     \u001b[0mparser\u001b[0m \u001b[0;34m=\u001b[0m \u001b[0mTextFileReader\u001b[0m\u001b[0;34m(\u001b[0m\u001b[0mfp_or_buf\u001b[0m\u001b[0;34m,\u001b[0m \u001b[0;34m**\u001b[0m\u001b[0mkwds\u001b[0m\u001b[0;34m)\u001b[0m\u001b[0;34m\u001b[0m\u001b[0;34m\u001b[0m\u001b[0m\n\u001b[0m\u001b[1;32m    449\u001b[0m \u001b[0;34m\u001b[0m\u001b[0m\n\u001b[1;32m    450\u001b[0m     \u001b[0;32mif\u001b[0m \u001b[0mchunksize\u001b[0m \u001b[0;32mor\u001b[0m \u001b[0miterator\u001b[0m\u001b[0;34m:\u001b[0m\u001b[0;34m\u001b[0m\u001b[0;34m\u001b[0m\u001b[0m\n",
      "\u001b[0;32m~/anaconda3/lib/python3.7/site-packages/pandas/io/parsers.py\u001b[0m in \u001b[0;36m__init__\u001b[0;34m(self, f, engine, **kwds)\u001b[0m\n\u001b[1;32m    878\u001b[0m             \u001b[0mself\u001b[0m\u001b[0;34m.\u001b[0m\u001b[0moptions\u001b[0m\u001b[0;34m[\u001b[0m\u001b[0;34m\"has_index_names\"\u001b[0m\u001b[0;34m]\u001b[0m \u001b[0;34m=\u001b[0m \u001b[0mkwds\u001b[0m\u001b[0;34m[\u001b[0m\u001b[0;34m\"has_index_names\"\u001b[0m\u001b[0;34m]\u001b[0m\u001b[0;34m\u001b[0m\u001b[0;34m\u001b[0m\u001b[0m\n\u001b[1;32m    879\u001b[0m \u001b[0;34m\u001b[0m\u001b[0m\n\u001b[0;32m--> 880\u001b[0;31m         \u001b[0mself\u001b[0m\u001b[0;34m.\u001b[0m\u001b[0m_make_engine\u001b[0m\u001b[0;34m(\u001b[0m\u001b[0mself\u001b[0m\u001b[0;34m.\u001b[0m\u001b[0mengine\u001b[0m\u001b[0;34m)\u001b[0m\u001b[0;34m\u001b[0m\u001b[0;34m\u001b[0m\u001b[0m\n\u001b[0m\u001b[1;32m    881\u001b[0m \u001b[0;34m\u001b[0m\u001b[0m\n\u001b[1;32m    882\u001b[0m     \u001b[0;32mdef\u001b[0m \u001b[0mclose\u001b[0m\u001b[0;34m(\u001b[0m\u001b[0mself\u001b[0m\u001b[0;34m)\u001b[0m\u001b[0;34m:\u001b[0m\u001b[0;34m\u001b[0m\u001b[0;34m\u001b[0m\u001b[0m\n",
      "\u001b[0;32m~/anaconda3/lib/python3.7/site-packages/pandas/io/parsers.py\u001b[0m in \u001b[0;36m_make_engine\u001b[0;34m(self, engine)\u001b[0m\n\u001b[1;32m   1112\u001b[0m     \u001b[0;32mdef\u001b[0m \u001b[0m_make_engine\u001b[0m\u001b[0;34m(\u001b[0m\u001b[0mself\u001b[0m\u001b[0;34m,\u001b[0m \u001b[0mengine\u001b[0m\u001b[0;34m=\u001b[0m\u001b[0;34m\"c\"\u001b[0m\u001b[0;34m)\u001b[0m\u001b[0;34m:\u001b[0m\u001b[0;34m\u001b[0m\u001b[0;34m\u001b[0m\u001b[0m\n\u001b[1;32m   1113\u001b[0m         \u001b[0;32mif\u001b[0m \u001b[0mengine\u001b[0m \u001b[0;34m==\u001b[0m \u001b[0;34m\"c\"\u001b[0m\u001b[0;34m:\u001b[0m\u001b[0;34m\u001b[0m\u001b[0;34m\u001b[0m\u001b[0m\n\u001b[0;32m-> 1114\u001b[0;31m             \u001b[0mself\u001b[0m\u001b[0;34m.\u001b[0m\u001b[0m_engine\u001b[0m \u001b[0;34m=\u001b[0m \u001b[0mCParserWrapper\u001b[0m\u001b[0;34m(\u001b[0m\u001b[0mself\u001b[0m\u001b[0;34m.\u001b[0m\u001b[0mf\u001b[0m\u001b[0;34m,\u001b[0m \u001b[0;34m**\u001b[0m\u001b[0mself\u001b[0m\u001b[0;34m.\u001b[0m\u001b[0moptions\u001b[0m\u001b[0;34m)\u001b[0m\u001b[0;34m\u001b[0m\u001b[0;34m\u001b[0m\u001b[0m\n\u001b[0m\u001b[1;32m   1115\u001b[0m         \u001b[0;32melse\u001b[0m\u001b[0;34m:\u001b[0m\u001b[0;34m\u001b[0m\u001b[0;34m\u001b[0m\u001b[0m\n\u001b[1;32m   1116\u001b[0m             \u001b[0;32mif\u001b[0m \u001b[0mengine\u001b[0m \u001b[0;34m==\u001b[0m \u001b[0;34m\"python\"\u001b[0m\u001b[0;34m:\u001b[0m\u001b[0;34m\u001b[0m\u001b[0;34m\u001b[0m\u001b[0m\n",
      "\u001b[0;32m~/anaconda3/lib/python3.7/site-packages/pandas/io/parsers.py\u001b[0m in \u001b[0;36m__init__\u001b[0;34m(self, src, **kwds)\u001b[0m\n\u001b[1;32m   1889\u001b[0m         \u001b[0mkwds\u001b[0m\u001b[0;34m[\u001b[0m\u001b[0;34m\"usecols\"\u001b[0m\u001b[0;34m]\u001b[0m \u001b[0;34m=\u001b[0m \u001b[0mself\u001b[0m\u001b[0;34m.\u001b[0m\u001b[0musecols\u001b[0m\u001b[0;34m\u001b[0m\u001b[0;34m\u001b[0m\u001b[0m\n\u001b[1;32m   1890\u001b[0m \u001b[0;34m\u001b[0m\u001b[0m\n\u001b[0;32m-> 1891\u001b[0;31m         \u001b[0mself\u001b[0m\u001b[0;34m.\u001b[0m\u001b[0m_reader\u001b[0m \u001b[0;34m=\u001b[0m \u001b[0mparsers\u001b[0m\u001b[0;34m.\u001b[0m\u001b[0mTextReader\u001b[0m\u001b[0;34m(\u001b[0m\u001b[0msrc\u001b[0m\u001b[0;34m,\u001b[0m \u001b[0;34m**\u001b[0m\u001b[0mkwds\u001b[0m\u001b[0;34m)\u001b[0m\u001b[0;34m\u001b[0m\u001b[0;34m\u001b[0m\u001b[0m\n\u001b[0m\u001b[1;32m   1892\u001b[0m         \u001b[0mself\u001b[0m\u001b[0;34m.\u001b[0m\u001b[0munnamed_cols\u001b[0m \u001b[0;34m=\u001b[0m \u001b[0mself\u001b[0m\u001b[0;34m.\u001b[0m\u001b[0m_reader\u001b[0m\u001b[0;34m.\u001b[0m\u001b[0munnamed_cols\u001b[0m\u001b[0;34m\u001b[0m\u001b[0;34m\u001b[0m\u001b[0m\n\u001b[1;32m   1893\u001b[0m \u001b[0;34m\u001b[0m\u001b[0m\n",
      "\u001b[0;32mpandas/_libs/parsers.pyx\u001b[0m in \u001b[0;36mpandas._libs.parsers.TextReader.__cinit__\u001b[0;34m()\u001b[0m\n",
      "\u001b[0;32mpandas/_libs/parsers.pyx\u001b[0m in \u001b[0;36mpandas._libs.parsers.TextReader._setup_parser_source\u001b[0;34m()\u001b[0m\n",
      "\u001b[0;31mFileNotFoundError\u001b[0m: [Errno 2] File Hotel_Reviews.csv does not exist: 'Hotel_Reviews.csv'"
     ]
    }
   ],
   "source": [
    "data = pd.read_csv('/Hotel_Reviews.csv')"
   ]
  },
  {
   "cell_type": "code",
   "execution_count": 3,
   "metadata": {},
   "outputs": [],
   "source": [
    "# remove rows with no review\n",
    "data = data[(data['Negative_Review'] != 'No Negative') | (data['Positive_Review'] != 'No Positive')]"
   ]
  },
  {
   "cell_type": "code",
   "execution_count": 4,
   "metadata": {},
   "outputs": [
    {
     "data": {
      "text/plain": [
       "0         7.7\n",
       "1         7.7\n",
       "2         7.7\n",
       "3         7.7\n",
       "4         7.7\n",
       "         ... \n",
       "515733    8.1\n",
       "515734    8.1\n",
       "515735    8.1\n",
       "515736    8.1\n",
       "515737    8.1\n",
       "Name: Average_Score, Length: 515611, dtype: float64"
      ]
     },
     "execution_count": 4,
     "metadata": {},
     "output_type": "execute_result"
    }
   ],
   "source": [
    "data.drop('Hotel_Name', axis=1, inplace=True)\n",
    "data['Average_Score'].astype(float)"
   ]
  },
  {
   "cell_type": "code",
   "execution_count": 5,
   "metadata": {},
   "outputs": [
    {
     "data": {
      "text/plain": [
       "1.1879814433749472"
      ]
     },
     "execution_count": 5,
     "metadata": {},
     "output_type": "execute_result"
    }
   ],
   "source": [
    "# Benchmark - error if you always guessed the average\n",
    "mean_absolute_error(data['Average_Score'], data['Reviewer_Score'])"
   ]
  },
  {
   "cell_type": "code",
   "execution_count": 6,
   "metadata": {},
   "outputs": [],
   "source": [
    "tags = data.Tags"
   ]
  },
  {
   "cell_type": "code",
   "execution_count": 7,
   "metadata": {},
   "outputs": [],
   "source": [
    "import ast\n",
    "new_tags = []\n",
    "for i in tags:\n",
    "    new_tags.append(ast.literal_eval(i))"
   ]
  },
  {
   "cell_type": "code",
   "execution_count": 8,
   "metadata": {},
   "outputs": [],
   "source": [
    "# feature engineering tags to reduce columns\n",
    "for index, i in enumerate(new_tags):\n",
    "    for idx, t in enumerate(i):\n",
    "        if t in [' Stayed 1 night ',' Stayed 2 nights ']:\n",
    "            new_tags[index][idx] = 'Stayed 1-2 nights'\n",
    "        if t in [' Stayed 3 nights ',' Stayed 4 nights ']:\n",
    "            new_tags[index][idx] = 'Stayed 3-4 nights'\n",
    "        if t in [' Stayed 5 nights ',' Stayed 6 nights ', ' Stayed 7 nights ', ' Stayed 8 nights ', ' Stayed 9 nights ', ' Stayed 10 nights ',  ' Stayed 11 nights ',\n",
    "             ' Stayed 12 nights ', ' Stayed 13 nights ', ' Stayed 14 nights ', ' Stayed 15 nights ', ' Stayed 16 nights ', ' Stayed 17 nights ',' Stayed 18 nights ', ' Stayed 19 nights ', ' Stayed 20 nights ',\n",
    "             ' Stayed 21 nights ', ' Stayed 22 nights ', ' Stayed 23 nights ', ' Stayed 24 nights ', ' Stayed 25 nights ', ' Stayed 26 nights ',\n",
    "             ' Stayed 27 nights ', ' Stayed 28 nights ', ' Stayed 29 nights ', ' Stayed 30 nights ', ' Stayed 31 nights ',]:\n",
    "            new_tags[index][idx] = 'Stayed 5+ nights'\n",
    "        if 'Apartment' in t or 'Apartement' in t:\n",
    "            new_tags[index][idx] = 'Apartment'\n",
    "        if 'Luxury' in t or 'VIP' in t or 'Executive' in t or 'Ambassador' in t or 'Royal' in t or 'Penthouse' in t or 'Suite' in t:\n",
    "            new_tags[index][idx] = 'Fancy'\n",
    "        if 'Standard' in t or 'Budget' in t or 'Small' in t or 'Economy' in t or 'Basic' in t or 'Bunk Bed' in t or 'Interior' in t or 'Special Offer' in t:\n",
    "            new_tags[index][idx] = 'Budget'\n",
    "        if 'Comfort' in t or 'Family' in t or 'Classic' in t or 'Large' in t:\n",
    "            new_tags[index][idx] = 'Medium'\n",
    "        if 'Superior' in t or 'Premium' in t or 'Prestige' in t or 'Premiere' in t or 'Privilege' in t or 'Deluxe' in t or 'Premier' in t or 'Club' in t:\n",
    "            new_tags[index][idx] = 'High'\n",
    "tags_final = []\n",
    "for index, i in enumerate(new_tags):\n",
    "    new = []\n",
    "    for idx, t in enumerate(i):\n",
    "        if t in ['Stayed 1-2 nights','Stayed 3-4 nights', 'Suite', 'Apartment', 'Fancy', 'Budget', 'Medium', 'High', ' Business Trip ', ' Solo Traveler ', ' Leisure trip ', ' Couple ', ' Group ', ' Family with young children ', ' Family with older children ']:\n",
    "            new.append(i[idx])\n",
    "    tags_final.append(new)"
   ]
  },
  {
   "cell_type": "code",
   "execution_count": 9,
   "metadata": {},
   "outputs": [],
   "source": [
    "data['New_Tags'] = tags_final"
   ]
  },
  {
   "cell_type": "code",
   "execution_count": 10,
   "metadata": {},
   "outputs": [
    {
     "data": {
      "text/html": [
       "<div>\n",
       "<style scoped>\n",
       "    .dataframe tbody tr th:only-of-type {\n",
       "        vertical-align: middle;\n",
       "    }\n",
       "\n",
       "    .dataframe tbody tr th {\n",
       "        vertical-align: top;\n",
       "    }\n",
       "\n",
       "    .dataframe thead th {\n",
       "        text-align: right;\n",
       "    }\n",
       "</style>\n",
       "<table border=\"1\" class=\"dataframe\">\n",
       "  <thead>\n",
       "    <tr style=\"text-align: right;\">\n",
       "      <th></th>\n",
       "      <th>Hotel_Address</th>\n",
       "      <th>Additional_Number_of_Scoring</th>\n",
       "      <th>Review_Date</th>\n",
       "      <th>Average_Score</th>\n",
       "      <th>Reviewer_Nationality</th>\n",
       "      <th>Negative_Review</th>\n",
       "      <th>Review_Total_Negative_Word_Counts</th>\n",
       "      <th>Total_Number_of_Reviews</th>\n",
       "      <th>Positive_Review</th>\n",
       "      <th>Review_Total_Positive_Word_Counts</th>\n",
       "      <th>Total_Number_of_Reviews_Reviewer_Has_Given</th>\n",
       "      <th>Reviewer_Score</th>\n",
       "      <th>Tags</th>\n",
       "      <th>days_since_review</th>\n",
       "      <th>lat</th>\n",
       "      <th>lng</th>\n",
       "      <th>New_Tags</th>\n",
       "    </tr>\n",
       "  </thead>\n",
       "  <tbody>\n",
       "    <tr>\n",
       "      <th>0</th>\n",
       "      <td>s Gravesandestraat 55 Oost 1092 AA Amsterdam ...</td>\n",
       "      <td>194</td>\n",
       "      <td>8/3/2017</td>\n",
       "      <td>7.7</td>\n",
       "      <td>Russia</td>\n",
       "      <td>I am so angry that i made this post available...</td>\n",
       "      <td>397</td>\n",
       "      <td>1403</td>\n",
       "      <td>Only the park outside of the hotel was beauti...</td>\n",
       "      <td>11</td>\n",
       "      <td>7</td>\n",
       "      <td>2.9</td>\n",
       "      <td>[' Leisure trip ', ' Couple ', ' Duplex Double...</td>\n",
       "      <td>0 days</td>\n",
       "      <td>52.360576</td>\n",
       "      <td>4.915968</td>\n",
       "      <td>[ Leisure trip ,  Couple ]</td>\n",
       "    </tr>\n",
       "    <tr>\n",
       "      <th>1</th>\n",
       "      <td>s Gravesandestraat 55 Oost 1092 AA Amsterdam ...</td>\n",
       "      <td>194</td>\n",
       "      <td>8/3/2017</td>\n",
       "      <td>7.7</td>\n",
       "      <td>Ireland</td>\n",
       "      <td>No Negative</td>\n",
       "      <td>0</td>\n",
       "      <td>1403</td>\n",
       "      <td>No real complaints the hotel was great great ...</td>\n",
       "      <td>105</td>\n",
       "      <td>7</td>\n",
       "      <td>7.5</td>\n",
       "      <td>[' Leisure trip ', ' Couple ', ' Duplex Double...</td>\n",
       "      <td>0 days</td>\n",
       "      <td>52.360576</td>\n",
       "      <td>4.915968</td>\n",
       "      <td>[ Leisure trip ,  Couple , Stayed 3-4 nights]</td>\n",
       "    </tr>\n",
       "    <tr>\n",
       "      <th>2</th>\n",
       "      <td>s Gravesandestraat 55 Oost 1092 AA Amsterdam ...</td>\n",
       "      <td>194</td>\n",
       "      <td>7/31/2017</td>\n",
       "      <td>7.7</td>\n",
       "      <td>Australia</td>\n",
       "      <td>Rooms are nice but for elderly a bit difficul...</td>\n",
       "      <td>42</td>\n",
       "      <td>1403</td>\n",
       "      <td>Location was good and staff were ok It is cut...</td>\n",
       "      <td>21</td>\n",
       "      <td>9</td>\n",
       "      <td>7.1</td>\n",
       "      <td>[' Leisure trip ', ' Family with young childre...</td>\n",
       "      <td>3 days</td>\n",
       "      <td>52.360576</td>\n",
       "      <td>4.915968</td>\n",
       "      <td>[ Leisure trip , Medium, Stayed 3-4 nights]</td>\n",
       "    </tr>\n",
       "    <tr>\n",
       "      <th>3</th>\n",
       "      <td>s Gravesandestraat 55 Oost 1092 AA Amsterdam ...</td>\n",
       "      <td>194</td>\n",
       "      <td>7/31/2017</td>\n",
       "      <td>7.7</td>\n",
       "      <td>United Kingdom</td>\n",
       "      <td>My room was dirty and I was afraid to walk ba...</td>\n",
       "      <td>210</td>\n",
       "      <td>1403</td>\n",
       "      <td>Great location in nice surroundings the bar a...</td>\n",
       "      <td>26</td>\n",
       "      <td>1</td>\n",
       "      <td>3.8</td>\n",
       "      <td>[' Leisure trip ', ' Solo traveler ', ' Duplex...</td>\n",
       "      <td>3 days</td>\n",
       "      <td>52.360576</td>\n",
       "      <td>4.915968</td>\n",
       "      <td>[ Leisure trip , Stayed 3-4 nights]</td>\n",
       "    </tr>\n",
       "    <tr>\n",
       "      <th>4</th>\n",
       "      <td>s Gravesandestraat 55 Oost 1092 AA Amsterdam ...</td>\n",
       "      <td>194</td>\n",
       "      <td>7/24/2017</td>\n",
       "      <td>7.7</td>\n",
       "      <td>New Zealand</td>\n",
       "      <td>You When I booked with your company on line y...</td>\n",
       "      <td>140</td>\n",
       "      <td>1403</td>\n",
       "      <td>Amazing location and building Romantic setting</td>\n",
       "      <td>8</td>\n",
       "      <td>3</td>\n",
       "      <td>6.7</td>\n",
       "      <td>[' Leisure trip ', ' Couple ', ' Suite ', ' St...</td>\n",
       "      <td>10 days</td>\n",
       "      <td>52.360576</td>\n",
       "      <td>4.915968</td>\n",
       "      <td>[ Leisure trip ,  Couple , Fancy, Stayed 1-2 n...</td>\n",
       "    </tr>\n",
       "    <tr>\n",
       "      <th>...</th>\n",
       "      <td>...</td>\n",
       "      <td>...</td>\n",
       "      <td>...</td>\n",
       "      <td>...</td>\n",
       "      <td>...</td>\n",
       "      <td>...</td>\n",
       "      <td>...</td>\n",
       "      <td>...</td>\n",
       "      <td>...</td>\n",
       "      <td>...</td>\n",
       "      <td>...</td>\n",
       "      <td>...</td>\n",
       "      <td>...</td>\n",
       "      <td>...</td>\n",
       "      <td>...</td>\n",
       "      <td>...</td>\n",
       "      <td>...</td>\n",
       "    </tr>\n",
       "    <tr>\n",
       "      <th>515733</th>\n",
       "      <td>Wurzbachgasse 21 15 Rudolfsheim F nfhaus 1150 ...</td>\n",
       "      <td>168</td>\n",
       "      <td>8/30/2015</td>\n",
       "      <td>8.1</td>\n",
       "      <td>Kuwait</td>\n",
       "      <td>no trolly or staff to help you take the lugga...</td>\n",
       "      <td>14</td>\n",
       "      <td>2823</td>\n",
       "      <td>location</td>\n",
       "      <td>2</td>\n",
       "      <td>8</td>\n",
       "      <td>7.0</td>\n",
       "      <td>[' Leisure trip ', ' Family with older childre...</td>\n",
       "      <td>704 day</td>\n",
       "      <td>48.203745</td>\n",
       "      <td>16.335677</td>\n",
       "      <td>[ Leisure trip , Medium]</td>\n",
       "    </tr>\n",
       "    <tr>\n",
       "      <th>515734</th>\n",
       "      <td>Wurzbachgasse 21 15 Rudolfsheim F nfhaus 1150 ...</td>\n",
       "      <td>168</td>\n",
       "      <td>8/22/2015</td>\n",
       "      <td>8.1</td>\n",
       "      <td>Estonia</td>\n",
       "      <td>The hotel looks like 3 but surely not 4</td>\n",
       "      <td>11</td>\n",
       "      <td>2823</td>\n",
       "      <td>Breakfast was ok and we got earlier check in</td>\n",
       "      <td>11</td>\n",
       "      <td>12</td>\n",
       "      <td>5.8</td>\n",
       "      <td>[' Leisure trip ', ' Family with young childre...</td>\n",
       "      <td>712 day</td>\n",
       "      <td>48.203745</td>\n",
       "      <td>16.335677</td>\n",
       "      <td>[ Leisure trip , Medium, Budget, Stayed 1-2 ni...</td>\n",
       "    </tr>\n",
       "    <tr>\n",
       "      <th>515735</th>\n",
       "      <td>Wurzbachgasse 21 15 Rudolfsheim F nfhaus 1150 ...</td>\n",
       "      <td>168</td>\n",
       "      <td>8/19/2015</td>\n",
       "      <td>8.1</td>\n",
       "      <td>Egypt</td>\n",
       "      <td>The ac was useless It was a hot week in vienn...</td>\n",
       "      <td>19</td>\n",
       "      <td>2823</td>\n",
       "      <td>No Positive</td>\n",
       "      <td>0</td>\n",
       "      <td>3</td>\n",
       "      <td>2.5</td>\n",
       "      <td>[' Leisure trip ', ' Family with older childre...</td>\n",
       "      <td>715 day</td>\n",
       "      <td>48.203745</td>\n",
       "      <td>16.335677</td>\n",
       "      <td>[ Leisure trip , Medium, Stayed 3-4 nights]</td>\n",
       "    </tr>\n",
       "    <tr>\n",
       "      <th>515736</th>\n",
       "      <td>Wurzbachgasse 21 15 Rudolfsheim F nfhaus 1150 ...</td>\n",
       "      <td>168</td>\n",
       "      <td>8/17/2015</td>\n",
       "      <td>8.1</td>\n",
       "      <td>Mexico</td>\n",
       "      <td>No Negative</td>\n",
       "      <td>0</td>\n",
       "      <td>2823</td>\n",
       "      <td>The rooms are enormous and really comfortable...</td>\n",
       "      <td>25</td>\n",
       "      <td>3</td>\n",
       "      <td>8.8</td>\n",
       "      <td>[' Leisure trip ', ' Group ', ' Standard Tripl...</td>\n",
       "      <td>717 day</td>\n",
       "      <td>48.203745</td>\n",
       "      <td>16.335677</td>\n",
       "      <td>[ Leisure trip ,  Group , Budget, Stayed 3-4 n...</td>\n",
       "    </tr>\n",
       "    <tr>\n",
       "      <th>515737</th>\n",
       "      <td>Wurzbachgasse 21 15 Rudolfsheim F nfhaus 1150 ...</td>\n",
       "      <td>168</td>\n",
       "      <td>8/9/2015</td>\n",
       "      <td>8.1</td>\n",
       "      <td>Hungary</td>\n",
       "      <td>I was in 3rd floor It didn t work Free Wife</td>\n",
       "      <td>13</td>\n",
       "      <td>2823</td>\n",
       "      <td>staff was very kind</td>\n",
       "      <td>6</td>\n",
       "      <td>1</td>\n",
       "      <td>8.3</td>\n",
       "      <td>[' Leisure trip ', ' Family with young childre...</td>\n",
       "      <td>725 day</td>\n",
       "      <td>48.203745</td>\n",
       "      <td>16.335677</td>\n",
       "      <td>[ Leisure trip , Medium, Stayed 1-2 nights]</td>\n",
       "    </tr>\n",
       "  </tbody>\n",
       "</table>\n",
       "<p>515611 rows × 17 columns</p>\n",
       "</div>"
      ],
      "text/plain": [
       "                                            Hotel_Address  \\\n",
       "0        s Gravesandestraat 55 Oost 1092 AA Amsterdam ...   \n",
       "1        s Gravesandestraat 55 Oost 1092 AA Amsterdam ...   \n",
       "2        s Gravesandestraat 55 Oost 1092 AA Amsterdam ...   \n",
       "3        s Gravesandestraat 55 Oost 1092 AA Amsterdam ...   \n",
       "4        s Gravesandestraat 55 Oost 1092 AA Amsterdam ...   \n",
       "...                                                   ...   \n",
       "515733  Wurzbachgasse 21 15 Rudolfsheim F nfhaus 1150 ...   \n",
       "515734  Wurzbachgasse 21 15 Rudolfsheim F nfhaus 1150 ...   \n",
       "515735  Wurzbachgasse 21 15 Rudolfsheim F nfhaus 1150 ...   \n",
       "515736  Wurzbachgasse 21 15 Rudolfsheim F nfhaus 1150 ...   \n",
       "515737  Wurzbachgasse 21 15 Rudolfsheim F nfhaus 1150 ...   \n",
       "\n",
       "        Additional_Number_of_Scoring Review_Date  Average_Score  \\\n",
       "0                                194    8/3/2017            7.7   \n",
       "1                                194    8/3/2017            7.7   \n",
       "2                                194   7/31/2017            7.7   \n",
       "3                                194   7/31/2017            7.7   \n",
       "4                                194   7/24/2017            7.7   \n",
       "...                              ...         ...            ...   \n",
       "515733                           168   8/30/2015            8.1   \n",
       "515734                           168   8/22/2015            8.1   \n",
       "515735                           168   8/19/2015            8.1   \n",
       "515736                           168   8/17/2015            8.1   \n",
       "515737                           168    8/9/2015            8.1   \n",
       "\n",
       "       Reviewer_Nationality  \\\n",
       "0                   Russia    \n",
       "1                  Ireland    \n",
       "2                Australia    \n",
       "3           United Kingdom    \n",
       "4              New Zealand    \n",
       "...                     ...   \n",
       "515733              Kuwait    \n",
       "515734             Estonia    \n",
       "515735               Egypt    \n",
       "515736              Mexico    \n",
       "515737             Hungary    \n",
       "\n",
       "                                          Negative_Review  \\\n",
       "0        I am so angry that i made this post available...   \n",
       "1                                             No Negative   \n",
       "2        Rooms are nice but for elderly a bit difficul...   \n",
       "3        My room was dirty and I was afraid to walk ba...   \n",
       "4        You When I booked with your company on line y...   \n",
       "...                                                   ...   \n",
       "515733   no trolly or staff to help you take the lugga...   \n",
       "515734           The hotel looks like 3 but surely not 4    \n",
       "515735   The ac was useless It was a hot week in vienn...   \n",
       "515736                                        No Negative   \n",
       "515737       I was in 3rd floor It didn t work Free Wife    \n",
       "\n",
       "        Review_Total_Negative_Word_Counts  Total_Number_of_Reviews  \\\n",
       "0                                     397                     1403   \n",
       "1                                       0                     1403   \n",
       "2                                      42                     1403   \n",
       "3                                     210                     1403   \n",
       "4                                     140                     1403   \n",
       "...                                   ...                      ...   \n",
       "515733                                 14                     2823   \n",
       "515734                                 11                     2823   \n",
       "515735                                 19                     2823   \n",
       "515736                                  0                     2823   \n",
       "515737                                 13                     2823   \n",
       "\n",
       "                                          Positive_Review  \\\n",
       "0        Only the park outside of the hotel was beauti...   \n",
       "1        No real complaints the hotel was great great ...   \n",
       "2        Location was good and staff were ok It is cut...   \n",
       "3        Great location in nice surroundings the bar a...   \n",
       "4         Amazing location and building Romantic setting    \n",
       "...                                                   ...   \n",
       "515733                                           location   \n",
       "515734      Breakfast was ok and we got earlier check in    \n",
       "515735                                        No Positive   \n",
       "515736   The rooms are enormous and really comfortable...   \n",
       "515737                               staff was very kind    \n",
       "\n",
       "        Review_Total_Positive_Word_Counts  \\\n",
       "0                                      11   \n",
       "1                                     105   \n",
       "2                                      21   \n",
       "3                                      26   \n",
       "4                                       8   \n",
       "...                                   ...   \n",
       "515733                                  2   \n",
       "515734                                 11   \n",
       "515735                                  0   \n",
       "515736                                 25   \n",
       "515737                                  6   \n",
       "\n",
       "        Total_Number_of_Reviews_Reviewer_Has_Given  Reviewer_Score  \\\n",
       "0                                                7             2.9   \n",
       "1                                                7             7.5   \n",
       "2                                                9             7.1   \n",
       "3                                                1             3.8   \n",
       "4                                                3             6.7   \n",
       "...                                            ...             ...   \n",
       "515733                                           8             7.0   \n",
       "515734                                          12             5.8   \n",
       "515735                                           3             2.5   \n",
       "515736                                           3             8.8   \n",
       "515737                                           1             8.3   \n",
       "\n",
       "                                                     Tags days_since_review  \\\n",
       "0       [' Leisure trip ', ' Couple ', ' Duplex Double...            0 days   \n",
       "1       [' Leisure trip ', ' Couple ', ' Duplex Double...            0 days   \n",
       "2       [' Leisure trip ', ' Family with young childre...            3 days   \n",
       "3       [' Leisure trip ', ' Solo traveler ', ' Duplex...            3 days   \n",
       "4       [' Leisure trip ', ' Couple ', ' Suite ', ' St...           10 days   \n",
       "...                                                   ...               ...   \n",
       "515733  [' Leisure trip ', ' Family with older childre...           704 day   \n",
       "515734  [' Leisure trip ', ' Family with young childre...           712 day   \n",
       "515735  [' Leisure trip ', ' Family with older childre...           715 day   \n",
       "515736  [' Leisure trip ', ' Group ', ' Standard Tripl...           717 day   \n",
       "515737  [' Leisure trip ', ' Family with young childre...           725 day   \n",
       "\n",
       "              lat        lng  \\\n",
       "0       52.360576   4.915968   \n",
       "1       52.360576   4.915968   \n",
       "2       52.360576   4.915968   \n",
       "3       52.360576   4.915968   \n",
       "4       52.360576   4.915968   \n",
       "...           ...        ...   \n",
       "515733  48.203745  16.335677   \n",
       "515734  48.203745  16.335677   \n",
       "515735  48.203745  16.335677   \n",
       "515736  48.203745  16.335677   \n",
       "515737  48.203745  16.335677   \n",
       "\n",
       "                                                 New_Tags  \n",
       "0                              [ Leisure trip ,  Couple ]  \n",
       "1           [ Leisure trip ,  Couple , Stayed 3-4 nights]  \n",
       "2             [ Leisure trip , Medium, Stayed 3-4 nights]  \n",
       "3                     [ Leisure trip , Stayed 3-4 nights]  \n",
       "4       [ Leisure trip ,  Couple , Fancy, Stayed 1-2 n...  \n",
       "...                                                   ...  \n",
       "515733                           [ Leisure trip , Medium]  \n",
       "515734  [ Leisure trip , Medium, Budget, Stayed 1-2 ni...  \n",
       "515735        [ Leisure trip , Medium, Stayed 3-4 nights]  \n",
       "515736  [ Leisure trip ,  Group , Budget, Stayed 3-4 n...  \n",
       "515737        [ Leisure trip , Medium, Stayed 1-2 nights]  \n",
       "\n",
       "[515611 rows x 17 columns]"
      ]
     },
     "execution_count": 10,
     "metadata": {},
     "output_type": "execute_result"
    }
   ],
   "source": [
    "data"
   ]
  },
  {
   "cell_type": "code",
   "execution_count": 11,
   "metadata": {},
   "outputs": [],
   "source": [
    "from sklearn.preprocessing import MultiLabelBinarizer\n",
    "mlb = MultiLabelBinarizer()\n",
    "\n",
    "tagdf = pd.DataFrame(mlb.fit_transform(data.New_Tags),columns=mlb.classes_, index=data.index)\n",
    "\n",
    "\n",
    "data = data.join(tagdf)\n",
    "data = data.drop(['New_Tags'], axis=1)"
   ]
  },
  {
   "cell_type": "code",
   "execution_count": 12,
   "metadata": {},
   "outputs": [],
   "source": [
    "#turn object into in\n",
    "data['days_since_review'] = data['days_since_review'].apply(lambda x: int(x.split(' ')[0]))"
   ]
  },
  {
   "cell_type": "code",
   "execution_count": 13,
   "metadata": {},
   "outputs": [],
   "source": [
    "data.drop('Hotel_Address', axis=1, inplace=True)"
   ]
  },
  {
   "cell_type": "code",
   "execution_count": 14,
   "metadata": {},
   "outputs": [],
   "source": [
    "data.drop('Tags', axis=1, inplace=True)"
   ]
  },
  {
   "cell_type": "code",
   "execution_count": 15,
   "metadata": {},
   "outputs": [],
   "source": [
    "neg = data.pop('Negative_Review')\n",
    "pos = data.pop('Positive_Review')"
   ]
  },
  {
   "cell_type": "code",
   "execution_count": 16,
   "metadata": {},
   "outputs": [],
   "source": [
    "nat = pd.get_dummies(data['Reviewer_Nationality'], prefix='Nationality: ')\n",
    "data = data.join(nat)\n",
    "data = data.drop(['Reviewer_Nationality'], axis=1)"
   ]
  },
  {
   "cell_type": "code",
   "execution_count": 17,
   "metadata": {},
   "outputs": [],
   "source": [
    "data.drop('Review_Date', axis=1, inplace=True)"
   ]
  },
  {
   "cell_type": "code",
   "execution_count": 18,
   "metadata": {},
   "outputs": [],
   "source": [
    "lat = data.pop('lat')\n",
    "lng = data.pop('lng')"
   ]
  },
  {
   "cell_type": "code",
   "execution_count": 19,
   "metadata": {},
   "outputs": [],
   "source": [
    "y = data.pop('Reviewer_Score')"
   ]
  },
  {
   "cell_type": "code",
   "execution_count": null,
   "metadata": {},
   "outputs": [],
   "source": [
    "X = data\n",
    "X_train, X_test, y_train, y_test = train_test_split(X,y, test_size=.2)"
   ]
  },
  {
   "cell_type": "code",
   "execution_count": null,
   "metadata": {},
   "outputs": [],
   "source": [
    "rf = RandomForestRegressor(min_samples_leaf = 30,\n",
    "                          max_depth=25,\n",
    "                          max_features=10,\n",
    "                          n_estimators=500)"
   ]
  },
  {
   "cell_type": "code",
   "execution_count": null,
   "metadata": {},
   "outputs": [],
   "source": [
    "data.info()"
   ]
  },
  {
   "cell_type": "code",
   "execution_count": null,
   "metadata": {},
   "outputs": [],
   "source": [
    "rf.fit(X_train, y_train)"
   ]
  },
  {
   "cell_type": "code",
   "execution_count": null,
   "metadata": {},
   "outputs": [],
   "source": [
    "y_pred = rf.predict(X_test)"
   ]
  },
  {
   "cell_type": "code",
   "execution_count": null,
   "metadata": {},
   "outputs": [],
   "source": [
    "mean_absolute_error(y_test, y_pred)"
   ]
  },
  {
   "cell_type": "code",
   "execution_count": null,
   "metadata": {},
   "outputs": [],
   "source": [
    "gdbr = GradientBoostingRegressor(learning_rate=0.01,\n",
    "                                  loss='ls',\n",
    "                                 max_depth=15,\n",
    "                                  n_estimators=100,\n",
    "                                 min_samples_leaf=120,\n",
    "                                 max_features=10,\n",
    "                                  random_state=1)"
   ]
  },
  {
   "cell_type": "code",
   "execution_count": null,
   "metadata": {},
   "outputs": [],
   "source": [
    "gdbr.fit(X_train, y_train)"
   ]
  },
  {
   "cell_type": "code",
   "execution_count": null,
   "metadata": {},
   "outputs": [],
   "source": [
    "y_hat = gdbr.predict(X_test)\n",
    "mean_absolute_error(y_test, y_hat)"
   ]
  },
  {
   "cell_type": "code",
   "execution_count": null,
   "metadata": {},
   "outputs": [],
   "source": [
    "param_dist = dict(min_samples_leaf = [5,10,15,20,30,50],\n",
    "                          max_depth = [5,10,15,20,25,30],\n",
    "                          max_features=[10, 20, 30, 40, 50],\n",
    "                          n_estimators=[50,75,100,300,500,1000])\n",
    "rand2 = RandomizedSearchCV(rf, param_dist, cv=10, scoring='neg_mean_absolute_error', n_iter=10)"
   ]
  },
  {
   "cell_type": "code",
   "execution_count": null,
   "metadata": {},
   "outputs": [],
   "source": [
    "rand2.fit(X_train, y_train)"
   ]
  },
  {
   "cell_type": "markdown",
   "metadata": {},
   "source": [
    "#Best random forest results RandomizedSearchCV(cv=10, error_score=nan, estimator=RandomForestRegressor(bootstrap=True, ccp_alpha=0.0, criterion='mse', max_depth=25, max_features=10, max_leaf_nodes=None, max_samples=None, min_impurity_decrease=0.0, min_impurity_split=None, min_samples_leaf=30, min_samples_split=2, min_weight_fraction_leaf=0.0, n_estimators=500, n_jobs=None, oob_score=False, ra...rbose=0, warm_start=False), iid='deprecated', n_iter=10, n_jobs=None, param_distributions={'max_depth': [5, 10, 15, 20, 25, 30], 'max_features': [10, 20, 30, 40, 50], 'min_samples_leaf': [5, 10, 15, 20, 30, 50], 'n_estimators': [50, 75, 100, 300, 500, 1000]}, pre_dispatch='2*n_jobs', random_state=None, refit=True, return_train_score=False, scoring='neg_mean_absolute_error', verbose=0)"
   ]
  },
  {
   "cell_type": "code",
   "execution_count": null,
   "metadata": {},
   "outputs": [],
   "source": [
    "yrand2 = rand2.predict(X_test)\n",
    "mean_absolute_error(y_test, yrand2)"
   ]
  },
  {
   "cell_type": "code",
   "execution_count": null,
   "metadata": {},
   "outputs": [],
   "source": [
    "param_dist = dict(min_samples_leaf = [10,15,20,30,50],\n",
    "                          max_depth = [5,10,20,30],\n",
    "                          max_features=[10, 20, 30, 40],\n",
    "                          n_estimators=[50,100,300,500,1000],\n",
    "                         learning_rate = [0.1, .05, 0.07, 0.01])\n",
    "booster2 = RandomizedSearchCV(gdbr, param_dist, cv=10, scoring='neg_mean_absolute_error', n_iter=10)"
   ]
  },
  {
   "cell_type": "code",
   "execution_count": null,
   "metadata": {},
   "outputs": [],
   "source": [
    "booster2.fit(X_train, y_train)"
   ]
  },
  {
   "cell_type": "markdown",
   "metadata": {},
   "source": [
    "RandomizedSearchCV(cv=10, error_score=nan, estimator=GradientBoostingRegressor(alpha=0.9, ccp_alpha=0.0, criterion='friedman_mse', init=None, learning_rate=0.01, loss='ls', max_depth=15, max_features=10, max_leaf_nodes=None, min_impurity_decrease=0.0, min_impurity_split=None, min_samples_leaf=120, min_samples_split=2, min_weight_fraction_leaf=0.0, n_estimators=100... warm_start=False), iid='deprecated', n_iter=10, n_jobs=None, param_distributions={'learning_rate': [0.1, 0.05, 0.07, 0.01], 'max_depth': [5, 10, 20, 30], 'max_features': [10, 20, 30, 40], 'min_samples_leaf': [10, 15, 20, 30, 50], 'n_estimators': [50, 100, 300, 500, 1000]}, pre_dispatch='2*n_jobs', random_state=None, refit=True, return_train_score=False, scoring='neg_mean_absolute_error', verbose=0)"
   ]
  },
  {
   "cell_type": "code",
   "execution_count": null,
   "metadata": {},
   "outputs": [],
   "source": [
    "yboost2 = booster2.predict(X_test)\n",
    "mean_absolute_error(y_test, yboost2)"
   ]
  },
  {
   "cell_type": "code",
   "execution_count": null,
   "metadata": {},
   "outputs": [],
   "source": []
  },
  {
   "cell_type": "code",
   "execution_count": null,
   "metadata": {},
   "outputs": [],
   "source": []
  },
  {
   "cell_type": "code",
   "execution_count": null,
   "metadata": {},
   "outputs": [],
   "source": []
  },
  {
   "cell_type": "code",
   "execution_count": 21,
   "metadata": {},
   "outputs": [],
   "source": [
    "coordinates = zip(lat,lng)\n",
    "#for i, j in zip(data.lat, data.lng):\n",
    "#coordinates.append((i,j))"
   ]
  },
  {
   "cell_type": "code",
   "execution_count": 22,
   "metadata": {},
   "outputs": [],
   "source": [
    "import folium\n",
    "\n",
    "\n",
    "m = folium.Map(location=[52.360576, 4.915968])"
   ]
  },
  {
   "cell_type": "code",
   "execution_count": 37,
   "metadata": {},
   "outputs": [
    {
     "data": {
      "text/html": [
       "<div style=\"width:100%;\"><div style=\"position:relative;width:100%;height:0;padding-bottom:60%;\"><iframe src=\"about:blank\" style=\"position:absolute;width:100%;height:100%;left:0;top:0;border:none !important;\" data-html=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 onload=\"this.contentDocument.open();this.contentDocument.write(atob(this.getAttribute('data-html')));this.contentDocument.close();\" allowfullscreen webkitallowfullscreen mozallowfullscreen></iframe></div></div>"
      ],
      "text/plain": [
       "<folium.folium.Map at 0x7f37f7d4ac90>"
      ]
     },
     "execution_count": 37,
     "metadata": {},
     "output_type": "execute_result"
    }
   ],
   "source": [
    "lst = [1,2500,48000, 12000,488888]\n",
    "for i in lst:\n",
    "    folium.Marker((lat[i],lng[i])).add_to(m)\n",
    "m"
   ]
  },
  {
   "cell_type": "code",
   "execution_count": null,
   "metadata": {},
   "outputs": [],
   "source": []
  },
  {
   "cell_type": "code",
   "execution_count": 2,
   "metadata": {},
   "outputs": [
    {
     "ename": "FileNotFoundError",
     "evalue": "[Errno 2] File clean.csv does not exist: 'clean.csv'",
     "output_type": "error",
     "traceback": [
      "\u001b[0;31m---------------------------------------------------------------------------\u001b[0m",
      "\u001b[0;31mFileNotFoundError\u001b[0m                         Traceback (most recent call last)",
      "\u001b[0;32m<ipython-input-2-ef4cd5497979>\u001b[0m in \u001b[0;36m<module>\u001b[0;34m\u001b[0m\n\u001b[0;32m----> 1\u001b[0;31m \u001b[0mclean\u001b[0m \u001b[0;34m=\u001b[0m \u001b[0mpd\u001b[0m\u001b[0;34m.\u001b[0m\u001b[0mread_csv\u001b[0m\u001b[0;34m(\u001b[0m\u001b[0;34m'clean.csv'\u001b[0m\u001b[0;34m)\u001b[0m\u001b[0;34m\u001b[0m\u001b[0;34m\u001b[0m\u001b[0m\n\u001b[0m",
      "\u001b[0;32m~/anaconda3/lib/python3.7/site-packages/pandas/io/parsers.py\u001b[0m in \u001b[0;36mparser_f\u001b[0;34m(filepath_or_buffer, sep, delimiter, header, names, index_col, usecols, squeeze, prefix, mangle_dupe_cols, dtype, engine, converters, true_values, false_values, skipinitialspace, skiprows, skipfooter, nrows, na_values, keep_default_na, na_filter, verbose, skip_blank_lines, parse_dates, infer_datetime_format, keep_date_col, date_parser, dayfirst, cache_dates, iterator, chunksize, compression, thousands, decimal, lineterminator, quotechar, quoting, doublequote, escapechar, comment, encoding, dialect, error_bad_lines, warn_bad_lines, delim_whitespace, low_memory, memory_map, float_precision)\u001b[0m\n\u001b[1;32m    674\u001b[0m         )\n\u001b[1;32m    675\u001b[0m \u001b[0;34m\u001b[0m\u001b[0m\n\u001b[0;32m--> 676\u001b[0;31m         \u001b[0;32mreturn\u001b[0m \u001b[0m_read\u001b[0m\u001b[0;34m(\u001b[0m\u001b[0mfilepath_or_buffer\u001b[0m\u001b[0;34m,\u001b[0m \u001b[0mkwds\u001b[0m\u001b[0;34m)\u001b[0m\u001b[0;34m\u001b[0m\u001b[0;34m\u001b[0m\u001b[0m\n\u001b[0m\u001b[1;32m    677\u001b[0m \u001b[0;34m\u001b[0m\u001b[0m\n\u001b[1;32m    678\u001b[0m     \u001b[0mparser_f\u001b[0m\u001b[0;34m.\u001b[0m\u001b[0m__name__\u001b[0m \u001b[0;34m=\u001b[0m \u001b[0mname\u001b[0m\u001b[0;34m\u001b[0m\u001b[0;34m\u001b[0m\u001b[0m\n",
      "\u001b[0;32m~/anaconda3/lib/python3.7/site-packages/pandas/io/parsers.py\u001b[0m in \u001b[0;36m_read\u001b[0;34m(filepath_or_buffer, kwds)\u001b[0m\n\u001b[1;32m    446\u001b[0m \u001b[0;34m\u001b[0m\u001b[0m\n\u001b[1;32m    447\u001b[0m     \u001b[0;31m# Create the parser.\u001b[0m\u001b[0;34m\u001b[0m\u001b[0;34m\u001b[0m\u001b[0;34m\u001b[0m\u001b[0m\n\u001b[0;32m--> 448\u001b[0;31m     \u001b[0mparser\u001b[0m \u001b[0;34m=\u001b[0m \u001b[0mTextFileReader\u001b[0m\u001b[0;34m(\u001b[0m\u001b[0mfp_or_buf\u001b[0m\u001b[0;34m,\u001b[0m \u001b[0;34m**\u001b[0m\u001b[0mkwds\u001b[0m\u001b[0;34m)\u001b[0m\u001b[0;34m\u001b[0m\u001b[0;34m\u001b[0m\u001b[0m\n\u001b[0m\u001b[1;32m    449\u001b[0m \u001b[0;34m\u001b[0m\u001b[0m\n\u001b[1;32m    450\u001b[0m     \u001b[0;32mif\u001b[0m \u001b[0mchunksize\u001b[0m \u001b[0;32mor\u001b[0m \u001b[0miterator\u001b[0m\u001b[0;34m:\u001b[0m\u001b[0;34m\u001b[0m\u001b[0;34m\u001b[0m\u001b[0m\n",
      "\u001b[0;32m~/anaconda3/lib/python3.7/site-packages/pandas/io/parsers.py\u001b[0m in \u001b[0;36m__init__\u001b[0;34m(self, f, engine, **kwds)\u001b[0m\n\u001b[1;32m    878\u001b[0m             \u001b[0mself\u001b[0m\u001b[0;34m.\u001b[0m\u001b[0moptions\u001b[0m\u001b[0;34m[\u001b[0m\u001b[0;34m\"has_index_names\"\u001b[0m\u001b[0;34m]\u001b[0m \u001b[0;34m=\u001b[0m \u001b[0mkwds\u001b[0m\u001b[0;34m[\u001b[0m\u001b[0;34m\"has_index_names\"\u001b[0m\u001b[0;34m]\u001b[0m\u001b[0;34m\u001b[0m\u001b[0;34m\u001b[0m\u001b[0m\n\u001b[1;32m    879\u001b[0m \u001b[0;34m\u001b[0m\u001b[0m\n\u001b[0;32m--> 880\u001b[0;31m         \u001b[0mself\u001b[0m\u001b[0;34m.\u001b[0m\u001b[0m_make_engine\u001b[0m\u001b[0;34m(\u001b[0m\u001b[0mself\u001b[0m\u001b[0;34m.\u001b[0m\u001b[0mengine\u001b[0m\u001b[0;34m)\u001b[0m\u001b[0;34m\u001b[0m\u001b[0;34m\u001b[0m\u001b[0m\n\u001b[0m\u001b[1;32m    881\u001b[0m \u001b[0;34m\u001b[0m\u001b[0m\n\u001b[1;32m    882\u001b[0m     \u001b[0;32mdef\u001b[0m \u001b[0mclose\u001b[0m\u001b[0;34m(\u001b[0m\u001b[0mself\u001b[0m\u001b[0;34m)\u001b[0m\u001b[0;34m:\u001b[0m\u001b[0;34m\u001b[0m\u001b[0;34m\u001b[0m\u001b[0m\n",
      "\u001b[0;32m~/anaconda3/lib/python3.7/site-packages/pandas/io/parsers.py\u001b[0m in \u001b[0;36m_make_engine\u001b[0;34m(self, engine)\u001b[0m\n\u001b[1;32m   1112\u001b[0m     \u001b[0;32mdef\u001b[0m \u001b[0m_make_engine\u001b[0m\u001b[0;34m(\u001b[0m\u001b[0mself\u001b[0m\u001b[0;34m,\u001b[0m \u001b[0mengine\u001b[0m\u001b[0;34m=\u001b[0m\u001b[0;34m\"c\"\u001b[0m\u001b[0;34m)\u001b[0m\u001b[0;34m:\u001b[0m\u001b[0;34m\u001b[0m\u001b[0;34m\u001b[0m\u001b[0m\n\u001b[1;32m   1113\u001b[0m         \u001b[0;32mif\u001b[0m \u001b[0mengine\u001b[0m \u001b[0;34m==\u001b[0m \u001b[0;34m\"c\"\u001b[0m\u001b[0;34m:\u001b[0m\u001b[0;34m\u001b[0m\u001b[0;34m\u001b[0m\u001b[0m\n\u001b[0;32m-> 1114\u001b[0;31m             \u001b[0mself\u001b[0m\u001b[0;34m.\u001b[0m\u001b[0m_engine\u001b[0m \u001b[0;34m=\u001b[0m \u001b[0mCParserWrapper\u001b[0m\u001b[0;34m(\u001b[0m\u001b[0mself\u001b[0m\u001b[0;34m.\u001b[0m\u001b[0mf\u001b[0m\u001b[0;34m,\u001b[0m \u001b[0;34m**\u001b[0m\u001b[0mself\u001b[0m\u001b[0;34m.\u001b[0m\u001b[0moptions\u001b[0m\u001b[0;34m)\u001b[0m\u001b[0;34m\u001b[0m\u001b[0;34m\u001b[0m\u001b[0m\n\u001b[0m\u001b[1;32m   1115\u001b[0m         \u001b[0;32melse\u001b[0m\u001b[0;34m:\u001b[0m\u001b[0;34m\u001b[0m\u001b[0;34m\u001b[0m\u001b[0m\n\u001b[1;32m   1116\u001b[0m             \u001b[0;32mif\u001b[0m \u001b[0mengine\u001b[0m \u001b[0;34m==\u001b[0m \u001b[0;34m\"python\"\u001b[0m\u001b[0;34m:\u001b[0m\u001b[0;34m\u001b[0m\u001b[0;34m\u001b[0m\u001b[0m\n",
      "\u001b[0;32m~/anaconda3/lib/python3.7/site-packages/pandas/io/parsers.py\u001b[0m in \u001b[0;36m__init__\u001b[0;34m(self, src, **kwds)\u001b[0m\n\u001b[1;32m   1889\u001b[0m         \u001b[0mkwds\u001b[0m\u001b[0;34m[\u001b[0m\u001b[0;34m\"usecols\"\u001b[0m\u001b[0;34m]\u001b[0m \u001b[0;34m=\u001b[0m \u001b[0mself\u001b[0m\u001b[0;34m.\u001b[0m\u001b[0musecols\u001b[0m\u001b[0;34m\u001b[0m\u001b[0;34m\u001b[0m\u001b[0m\n\u001b[1;32m   1890\u001b[0m \u001b[0;34m\u001b[0m\u001b[0m\n\u001b[0;32m-> 1891\u001b[0;31m         \u001b[0mself\u001b[0m\u001b[0;34m.\u001b[0m\u001b[0m_reader\u001b[0m \u001b[0;34m=\u001b[0m \u001b[0mparsers\u001b[0m\u001b[0;34m.\u001b[0m\u001b[0mTextReader\u001b[0m\u001b[0;34m(\u001b[0m\u001b[0msrc\u001b[0m\u001b[0;34m,\u001b[0m \u001b[0;34m**\u001b[0m\u001b[0mkwds\u001b[0m\u001b[0;34m)\u001b[0m\u001b[0;34m\u001b[0m\u001b[0;34m\u001b[0m\u001b[0m\n\u001b[0m\u001b[1;32m   1892\u001b[0m         \u001b[0mself\u001b[0m\u001b[0;34m.\u001b[0m\u001b[0munnamed_cols\u001b[0m \u001b[0;34m=\u001b[0m \u001b[0mself\u001b[0m\u001b[0;34m.\u001b[0m\u001b[0m_reader\u001b[0m\u001b[0;34m.\u001b[0m\u001b[0munnamed_cols\u001b[0m\u001b[0;34m\u001b[0m\u001b[0;34m\u001b[0m\u001b[0m\n\u001b[1;32m   1893\u001b[0m \u001b[0;34m\u001b[0m\u001b[0m\n",
      "\u001b[0;32mpandas/_libs/parsers.pyx\u001b[0m in \u001b[0;36mpandas._libs.parsers.TextReader.__cinit__\u001b[0;34m()\u001b[0m\n",
      "\u001b[0;32mpandas/_libs/parsers.pyx\u001b[0m in \u001b[0;36mpandas._libs.parsers.TextReader._setup_parser_source\u001b[0;34m()\u001b[0m\n",
      "\u001b[0;31mFileNotFoundError\u001b[0m: [Errno 2] File clean.csv does not exist: 'clean.csv'"
     ]
    }
   ],
   "source": [
    "clean = pd.read_csv('home/slindhult/Data-Science/Hotelsclean.csv')"
   ]
  },
  {
   "cell_type": "code",
   "execution_count": null,
   "metadata": {},
   "outputs": [],
   "source": []
  }
 ],
 "metadata": {
  "kernelspec": {
   "display_name": "Python 3",
   "language": "python",
   "name": "python3"
  },
  "language_info": {
   "codemirror_mode": {
    "name": "ipython",
    "version": 3
   },
   "file_extension": ".py",
   "mimetype": "text/x-python",
   "name": "python",
   "nbconvert_exporter": "python",
   "pygments_lexer": "ipython3",
   "version": "3.7.6"
  }
 },
 "nbformat": 4,
 "nbformat_minor": 4
}
